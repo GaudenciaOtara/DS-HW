{
 "cells": [
  {
   "cell_type": "markdown",
   "id": "f500234c",
   "metadata": {},
   "source": [
    "## Problem 1: Find Missing Element"
   ]
  },
  {
   "cell_type": "code",
   "execution_count": 1,
   "id": "23e71ae9",
   "metadata": {},
   "outputs": [
    {
     "name": "stdout",
     "output_type": "stream",
     "text": [
      "5\n",
      "Time taken: 0.001000404358\n"
     ]
    }
   ],
   "source": [
    "import time\n",
    "\n",
    "\n",
    "list1 = [5, 7, 8, 2, 1]\n",
    "list2 = [7, 8, 2, 1]\n",
    "\n",
    "def find_missing_number(list1, list2):\n",
    "    for number in list1:\n",
    "        if number not in list2:\n",
    "            print(number)\n",
    "\n",
    "            \n",
    "start_time=time.time()\n",
    "find_missing_number(list1,list2)\n",
    "end_time=time.time()\n",
    "\n",
    "time_taken=end_time-start_time\n",
    "print(f\"Time taken: {time_taken:.10}\")"
   ]
  },
  {
   "cell_type": "code",
   "execution_count": 2,
   "id": "d4dc4265",
   "metadata": {},
   "outputs": [
    {
     "name": "stdout",
     "output_type": "stream",
     "text": [
      "Time taken: 0.0\n"
     ]
    }
   ],
   "source": [
    "def find_missing_number(list1, list2):\n",
    "    result=0\n",
    "    for number in list1+list2:\n",
    "        result ^=number\n",
    "    return result\n",
    "\n",
    "start_time=time.time()\n",
    "find_missing_number(list1,list2)\n",
    "end_time=time.time()\n",
    "\n",
    "time_taken=end_time-start_time\n",
    "print(f\"Time taken: {time_taken:.10}\")           \n",
    "            "
   ]
  },
  {
   "cell_type": "markdown",
   "id": "3e77d458",
   "metadata": {},
   "source": [
    "## Problem 2: Group Elements by Frequency\n"
   ]
  },
  {
   "cell_type": "code",
   "execution_count": 5,
   "id": "d412430a",
   "metadata": {},
   "outputs": [],
   "source": [
    "from collections import Counter\n",
    "\n",
    "\n",
    "lst = [1, 2, 2, 3, 3, 3, 4, 4, 4, 4]\n",
    "\n",
    "\n",
    "def number_frequency(lst): \n",
    "    frequency=Counter(lst)\n",
    "    frequency_dictionary={}\n",
    "    for element,count in frequency.items():\n",
    "        if element in frequency_dictionary:\n",
    "            frequency_dictionary[count]\n",
    "            \n",
    "    \n",
    "        \n"
   ]
  },
  {
   "cell_type": "markdown",
   "id": "53a206fc",
   "metadata": {},
   "source": [
    "## Problem 3: Longest Substring with Unique Characters\n"
   ]
  },
  {
   "cell_type": "markdown",
   "id": "52cdcd80",
   "metadata": {},
   "source": [
    "Write a function to find the length of the longest substring with unique characters from a given\n",
    "string\n",
    "\n",
    "### Pseudocode \n",
    "\n",
    "    1.Iterate through string \n",
    "    2.Store the unique characters up until a repeated one is found \n",
    "    3.Create lists for each of the unique characters\n",
    "    4.Compare the list with the longest length\n"
   ]
  },
  {
   "cell_type": "code",
   "execution_count": 6,
   "id": "03ac28f6",
   "metadata": {},
   "outputs": [
    {
     "name": "stdout",
     "output_type": "stream",
     "text": [
      "b\n",
      "['abc', 'abc', 'b', 'b']\n"
     ]
    }
   ],
   "source": [
    "s = \"abcabcbb\"\n",
    "unique_list_strings=[]\n",
    "temporary_string=\"\"\n",
    "\n",
    "for char in s:\n",
    "    if char not in temporary_string:\n",
    "        temporary_string+=char\n",
    "    else:\n",
    "        unique_list_strings.append(temporary_string)\n",
    "        temporary_string=char\n",
    "else:\n",
    "        unique_list_strings.append(temporary_string)\n",
    "        \n",
    "print(temporary_string)\n",
    "print(unique_list_strings)"
   ]
  },
  {
   "cell_type": "markdown",
   "id": "23bd627a",
   "metadata": {},
   "source": [
    "## Problem 4: Flatten a Nested List\n"
   ]
  },
  {
   "cell_type": "code",
   "execution_count": 7,
   "id": "5210412e",
   "metadata": {},
   "outputs": [
    {
     "name": "stdout",
     "output_type": "stream",
     "text": [
      "[1, 2, 3, 4, 5, 6, 7, 8]\n"
     ]
    }
   ],
   "source": [
    "lst = [1, [2, [3, 4], 5], 6, [7, 8]]\n",
    "\n",
    "def flatten_list(lst):\n",
    "    new_list=[]\n",
    "    for i in lst:\n",
    "        if isinstance(i,list):\n",
    "            new_list.extend(flatten_list(i))\n",
    "        else:\n",
    "            new_list.append((i))\n",
    "                            \n",
    "    return new_list\n",
    "\n",
    "                            \n",
    "x=flatten_list(lst)      \n",
    "print(x)\n",
    "                            "
   ]
  },
  {
   "cell_type": "markdown",
   "id": "9d034d22",
   "metadata": {},
   "source": [
    "## Problem 5: Transpose of a Matrix\n",
    "\n"
   ]
  },
  {
   "cell_type": "code",
   "execution_count": 13,
   "id": "b08da408",
   "metadata": {},
   "outputs": [
    {
     "name": "stdout",
     "output_type": "stream",
     "text": [
      "[[1, 4, 7], [2, 5, 8], [3, 6, 9]]\n",
      "[[1, 4, 7], [2, 5, 8], [3, 6, 9]]\n",
      "[[1, 4, 7], [2, 5, 8], [3, 6, 9]]\n"
     ]
    }
   ],
   "source": [
    "matrix = [\n",
    "[1, 2, 3],\n",
    "[4, 5, 6],\n",
    "[7, 8, 9]\n",
    "]\n",
    "\n",
    "\n",
    "for i in matrix:\n",
    "    lst=list(map(list,zip(*matrix)))\n",
    "    print(lst)"
   ]
  },
  {
   "cell_type": "markdown",
   "id": "b0a293e3",
   "metadata": {},
   "source": [
    "## Problem 6: Count Subsets Summing to Target\n"
   ]
  },
  {
   "cell_type": "code",
   "execution_count": 84,
   "id": "bb539cb1",
   "metadata": {},
   "outputs": [
    {
     "name": "stdout",
     "output_type": "stream",
     "text": [
      "[2, 2, 2, 2, 2]\n",
      "[2, 2, 3, 3]\n",
      "[2, 2, 6]\n",
      "[2, 3, 5]\n",
      "[2, 8]\n",
      "[5, 5]\n"
     ]
    }
   ],
   "source": [
    "nums = [2, 3, 5, 6, 8]\n",
    "target_list = []\n",
    "\n",
    "def unique_combinations(nums, target_list, target=10):\n",
    "    for i in range(len(nums)):\n",
    "        target_list.append(nums[i])\n",
    "\n",
    "        if sum(target_list) > target:\n",
    "            target_list.pop() \n",
    "            continue\n",
    "        \n",
    "        if sum(target_list) == target:\n",
    "            print(target_list)\n",
    "        \n",
    "        unique_combinations(nums[i:], target_list, target)\n",
    "\n",
    "        target_list.pop()\n",
    "\n",
    "unique_combinations(nums, target_list)\n"
   ]
  },
  {
   "cell_type": "markdown",
   "id": "385830e4",
   "metadata": {},
   "source": [
    "## Problem 7: Merge Intervals\n"
   ]
  },
  {
   "cell_type": "code",
   "execution_count": 13,
   "id": "b13f1ab6",
   "metadata": {},
   "outputs": [
    {
     "name": "stdout",
     "output_type": "stream",
     "text": [
      "[[1, 6], [8, 10], [15, 18]]\n"
     ]
    }
   ],
   "source": [
    "intervals = [[1, 3], [2, 6], [8, 10], [15, 18]]\n",
    "\n",
    "def merge_intervals(intervals):\n",
    "    merged_list = []\n",
    "    \n",
    "    for interval in intervals:\n",
    "        if not merged_list:\n",
    "            merged_list.append(interval)\n",
    "        else:\n",
    "            last_interval = merged_list[-1]\n",
    "            if last_interval[1] >= interval[0]:  \n",
    "                \n",
    "                merged_list[-1][1] = max(last_interval[1], interval[1])\n",
    "            else:\n",
    "                merged_list.append(interval)\n",
    "    \n",
    "    return merged_list\n",
    "\n",
    "\n",
    "print(merge_intervals(intervals))  \n"
   ]
  },
  {
   "cell_type": "markdown",
   "id": "bf0a82cf",
   "metadata": {},
   "source": [
    "## Problem 8: Most Common Word (Ignoring Punctuation)\n"
   ]
  },
  {
   "cell_type": "code",
   "execution_count": 122,
   "id": "066274c6",
   "metadata": {},
   "outputs": [
    {
     "name": "stdout",
     "output_type": "stream",
     "text": [
      "{'world': 2, 'full': 2, 'of': 2, 'cats': 5, '': 3, 'dogs': 4, 'jump': 1, 'and': 2, 'bark': 1, 'yes': 1, 'is': 1, 'catscats': 1, 'everywhere': 1, 'every': 2, 'dog': 2, 'theres': 1, 'cat': 2, 'end': 1, 'its': 1, 'all': 1, 'about': 1, 'dogsalways': 1}\n",
      "The word with the most maximum appearances is cats and it appears 5 times\n"
     ]
    }
   ],
   "source": [
    "paragraph = \"In a world full of cats & dogs, the cats cats jump and the dogs bark! Yes, the world is full of cats—cats and dogs, everywhere. For every dog, there's a cat; for every cat, a dog! In the end, it’s all about cats & dogs—always, cats & dogs!\"\n",
    "banned_words = ['in', 'the', 'for', 'a']\n",
    "\n",
    "\n",
    "def word_frequency(paragraph,banned_words):\n",
    "    \n",
    "\n",
    "    new_paragraph = paragraph.lower().split()\n",
    "\n",
    "    cleaned_paragraph = list(map(lambda word: ''.join(char for char in word if char.isalnum()), new_paragraph))\n",
    "\n",
    "    word_count = {}\n",
    "\n",
    "    for w in cleaned_paragraph:\n",
    "        if w in banned_words:\n",
    "            continue\n",
    "        if w in word_count:\n",
    "            word_count[w] += 1  \n",
    "        else:\n",
    "            word_count[w] = 1\n",
    "    print(word_count)\n",
    "\n",
    "    \n",
    "    \n",
    "word_frequency(paragraph,banned_words)\n",
    "\n",
    "\n",
    "max_count=0\n",
    "most_common_word=\"\"\n",
    "\n",
    "for k,v in word_count.items():\n",
    "    if v>max_count:\n",
    "        max_count=v\n",
    "        most_common_word=k\n",
    "\n",
    "print(f'The word with the most maximum appearances is {most_common_word} and it appears {max_count} times')"
   ]
  },
  {
   "cell_type": "code",
   "execution_count": null,
   "id": "80561365",
   "metadata": {},
   "outputs": [],
   "source": []
  }
 ],
 "metadata": {
  "kernelspec": {
   "display_name": "Python 3 (ipykernel)",
   "language": "python",
   "name": "python3"
  },
  "language_info": {
   "codemirror_mode": {
    "name": "ipython",
    "version": 3
   },
   "file_extension": ".py",
   "mimetype": "text/x-python",
   "name": "python",
   "nbconvert_exporter": "python",
   "pygments_lexer": "ipython3",
   "version": "3.7.16"
  }
 },
 "nbformat": 4,
 "nbformat_minor": 5
}
