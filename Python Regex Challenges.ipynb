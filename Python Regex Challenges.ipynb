{
 "cells": [
  {
   "cell_type": "markdown",
   "id": "b6bd37bc-1636-4134-8cdd-766b7e8cfa6c",
   "metadata": {},
   "source": [
    "## 1. Extracting Email Addresses from Text"
   ]
  },
  {
   "cell_type": "code",
   "execution_count": 4,
   "id": "96650da1-3049-4365-9179-aa6e025d1460",
   "metadata": {},
   "outputs": [
    {
     "name": "stdout",
     "output_type": "stream",
     "text": [
      "['support@example.com', 'info@website.org', 'jobs@company.net', 'marketing@brand.com']\n"
     ]
    }
   ],
   "source": [
    "import re \n",
    "support=\"If you have any questions, feel free to contact us at support@example.com or info@website.org. For career inquiries, please email jobs@company.net. You can also reach our marketing team at marketing@brand.com We look forward to assisting you!\"\n",
    "\n",
    "e_pattern=r\"\\b\\w+\\@[\\w.]+\\w\"\n",
    "matches=re.findall(e_pattern,support,re.MULTILINE)\n",
    "print(matches)"
   ]
  },
  {
   "cell_type": "markdown",
   "id": "f866a234-e618-4489-95eb-860bc04092da",
   "metadata": {},
   "source": [
    "## 2. Validating Phone Numbers\n"
   ]
  },
  {
   "cell_type": "code",
   "execution_count": 9,
   "id": "16691c3e-1781-4fd1-9761-32385b30bb0c",
   "metadata": {},
   "outputs": [
    {
     "name": "stdout",
     "output_type": "stream",
     "text": [
      "['(123) 456-7890', '(987) 654-3210', '(555) 123-4567', '(800) 555-1212', '(111) 222-3333']\n"
     ]
    }
   ],
   "source": [
    "phone_numbers=\"(123) 456-7890, (987) 654-3210, (555) 123-4567, (800) 555-1212, (123) 45-6789, 123-456-7890, (123) 4567-890, (12) 3456-7890, (111) 222-3333\"\n",
    "\n",
    "p_pattern=r\"\\(\\d{3}\\) \\d{3}-\\d{4}\"\n",
    "matches=re.findall(p_pattern,phone_numbers,re.MULTILINE)\n",
    "\n",
    "print(matches)"
   ]
  },
  {
   "cell_type": "markdown",
   "id": "d705e4a9-cf99-49c5-aea9-0ba261836eef",
   "metadata": {},
   "source": [
    "## 3. Parsing Log Files for IP Addresses\n"
   ]
  },
  {
   "cell_type": "code",
   "execution_count": 31,
   "id": "85d59bd2-4b5c-4540-9693-21bf3547c2f2",
   "metadata": {},
   "outputs": [
    {
     "name": "stdout",
     "output_type": "stream",
     "text": [
      "['192.168.1.1', '10.0.0.2', '172.16.254.3', '192.168.1.1', '203.0.113.5', '172.16.254.3', '192.168.0.100', '256.256.256.256', '10.10.10.300', '192.168.1.256', '192.300.300.300']\n"
     ]
    }
   ],
   "source": [
    "log_data = \"\"\"\n",
    "192.168.1.1 - - [02/Dec/2024:12:00:00 +0000] \"GET /index.html HTTP/1.1\" 200 2326\n",
    "10.0.0.2 - - [02/Dec/2024:12:01:00 +0000] \"POST /api/login HTTP/1.1\" 404 512\n",
    "172.16.254.3 - - [02/Dec/2024:12:02:15 +0000] \"GET /about.html HTTP/1.1\" 200 2048\n",
    "192.168.1.1 - - [02/Dec/2024:12:03:10 +0000] \"GET /contact.html HTTP/1.1\" 304 1024\n",
    "203.0.113.5 - - [02/Dec/2024:12:05:30 +0000] \"GET /images/banner.png HTTP/1.1\" 200 1500\n",
    "172.16.254.3 - - [02/Dec/2024:12:06:00 +0000] \"DELETE /api/user HTTP/1.1\" 500 350\n",
    "192.168.0.100 - - [02/Dec/2024:12:07:45 +0000] \"GET /status HTTP/1.1\" 200 1024\n",
    "256.256.256.256 - - [02/Dec/2024:12:08:00 +0000] \"GET /invalid IP HTTP/1.1\" 400 256\n",
    "10.10.10.300 - - [02/Dec/2024:12:10:30 +0000] \"GET /out_of_range HTTP/1.1\" 400 400\n",
    "192.168.1.256 - - [02/Dec/2024:12:11:00 +0000] \"GET /invalid_octet HTTP/1.1\" 400 256\n",
    "192.300.300.300 - - [02/Dec/2024:12:12:30 +0000] \"GET /invalid HTTP/1.1\" 400 400\n",
    "10.1.1 - - [02/Dec/2024:12:13:00 +0000] \"GET /incorrect_format HTTP/1.1\" 400 512\n",
    "\"\"\"\n",
    "\n",
    "i_pattern = r\"\\b\\d{1,3}\\.\\d{1,3}\\.\\d{1,3}\\.\\d{1,3}\\b\"\n",
    "matches = re.findall(i_pattern, log_data)\n",
    "\n",
    "print(matches)"
   ]
  },
  {
   "cell_type": "markdown",
   "id": "50d9a793-d655-4e23-8629-9f8ef7e4d0bb",
   "metadata": {},
   "source": [
    "## 4. Reformatting Dates\n"
   ]
  },
  {
   "cell_type": "code",
   "execution_count": 30,
   "id": "cd3ca3e4-cb38-44cf-8124-bcd4e51b0255",
   "metadata": {},
   "outputs": [
    {
     "name": "stdout",
     "output_type": "stream",
     "text": [
      "2024/12/01, 2023/06/15, 2022/08/23\n"
     ]
    }
   ],
   "source": [
    "dates = \"01-12-2024, 15-06-2023, 23-08-2022\"\n",
    "\n",
    "d_pattern = r\"(\\d{2})-(\\d{2})-(\\d{4})\"\n",
    "\n",
    "result = re.sub(d_pattern, r\"\\3/\\2/\\1\", dates)\n",
    "\n",
    "print(result)"
   ]
  },
  {
   "cell_type": "markdown",
   "id": "36403011-797c-4c3d-b803-f8a73c25b9ed",
   "metadata": {},
   "source": [
    "## 5. Password Validation\n"
   ]
  },
  {
   "cell_type": "code",
   "execution_count": 32,
   "id": "437d6254-1a22-4d4a-90ce-16e0b8043889",
   "metadata": {},
   "outputs": [
    {
     "name": "stdin",
     "output_type": "stream",
     "text": [
      "Enter a password:  Gaudencia!o\n"
     ]
    },
    {
     "name": "stdout",
     "output_type": "stream",
     "text": [
      "The password is invalid.\n"
     ]
    }
   ],
   "source": [
    "pass_pattern = r\"^(?=.*[A-Z])(?=.*[a-z])(?=.*\\d)(?=.*[@#$%^&+=]).{8,}$\"\n",
    "\n",
    "password = input(\"Enter a password: \")\n",
    "valid = re.match(pass_pattern, password)\n",
    "\n",
    "if valid:\n",
    "    print(\"The password is valid.\")\n",
    "else:\n",
    "    print(\"The password is invalid.\")\n"
   ]
  },
  {
   "cell_type": "code",
   "execution_count": null,
   "id": "8f0b6f85-a659-49a2-9027-25487d84d7ff",
   "metadata": {},
   "outputs": [],
   "source": []
  }
 ],
 "metadata": {
  "kernelspec": {
   "display_name": "Python 3 (ipykernel)",
   "language": "python",
   "name": "python3"
  },
  "language_info": {
   "codemirror_mode": {
    "name": "ipython",
    "version": 3
   },
   "file_extension": ".py",
   "mimetype": "text/x-python",
   "name": "python",
   "nbconvert_exporter": "python",
   "pygments_lexer": "ipython3",
   "version": "3.12.7"
  }
 },
 "nbformat": 4,
 "nbformat_minor": 5
}
